{
 "cells": [
  {
   "cell_type": "markdown",
   "metadata": {},
   "source": [
    "# Introduction\n",
    "\n",
    "This project entails to cover different models for the task of Neural machine translation. There are four models that will be looked into each with increasing improvements and modifications. We will start off with a basic sequence-to-sequence model, followed by an encoder decoder setup for joint translation. After this the following models will improve upon the performance by adding attention and coverage.\n",
    "\n",
    "## Models\n",
    "\n",
    "Using implementations of following paper make 4 translation models and check their performance on test data\n",
    "\n",
    "- [Sequence to Sequence Learning with Neural Networks](https://papers.nips.cc/paper/5346-sequence-to-sequence-learning-with-neural-networks.pdf) To get the ball rolling.\n",
    "- [Neural Machine Translation By Jointly Learning To Align And Translate](https://arxiv.org/pdf/1409.0473.pdf) Basic attention\n",
    "- [Effective Approaches to Attention-based Neural Machine Translation](http://aclweb.org/anthology/D15-1166) Try the three global attention options, ignore local attention\n",
    "- [Modeling Coverage for Neural Machine Translation](http://www.aclweb.org/anthology/P16-1008) Does this help for repeated words?"
   ]
  },
  {
   "cell_type": "code",
   "execution_count": 3,
   "metadata": {},
   "outputs": [],
   "source": [
    "# load the relevant libraries\n",
    "import pandas as pd\n",
    "import numpy as np\n",
    "import matplotlib.pyplot as plt\n",
    "%matplotlib inline"
   ]
  },
  {
   "cell_type": "markdown",
   "metadata": {},
   "source": [
    "# Dataset\n",
    "\n",
    "We will be using a parallel corpus of English-Hindi text. This corpus contains a dataset as described below:\n",
    "```bash\n",
    "    401    6709   35463 dev.en\n",
    "    200    2784   14367 test.en\n",
    "  49398  846781 4516717 train.en\n",
    "  49999  856274 4566547 total\n",
    "```\n",
    "As seen above, we have around 49.4k parallel aligned sentences for training, and about 200 sentences for testing. Additionally, there are 400 sentences for parameter tuning and validation. We will be training all our models on the `train.{en,hi}`. First, let us load the data. It has already been processed and added as pandas `DataFrame`s for easy loading and manipulation."
   ]
  },
  {
   "cell_type": "code",
   "execution_count": 7,
   "metadata": {},
   "outputs": [
    {
     "name": "stdout",
     "output_type": "stream",
     "text": [
      "['/test', '/train', '/validate']\n",
      "(49398, 2)\n"
     ]
    },
    {
     "data": {
      "text/html": [
       "<div>\n",
       "<style scoped>\n",
       "    .dataframe tbody tr th:only-of-type {\n",
       "        vertical-align: middle;\n",
       "    }\n",
       "\n",
       "    .dataframe tbody tr th {\n",
       "        vertical-align: top;\n",
       "    }\n",
       "\n",
       "    .dataframe thead th {\n",
       "        text-align: right;\n",
       "    }\n",
       "</style>\n",
       "<table border=\"1\" class=\"dataframe\">\n",
       "  <thead>\n",
       "    <tr style=\"text-align: right;\">\n",
       "      <th></th>\n",
       "      <th>en</th>\n",
       "      <th>hi</th>\n",
       "    </tr>\n",
       "  </thead>\n",
       "  <tbody>\n",
       "    <tr>\n",
       "      <th>0</th>\n",
       "      <td>The treatment of cataract is possible through ...</td>\n",
       "      <td>मोतियाबिंद का उपचार केवल शल्य-चिकित्सा द्वारा ...</td>\n",
       "    </tr>\n",
       "    <tr>\n",
       "      <th>1</th>\n",
       "      <td>Complete lens capsule is taken out in the meth...</td>\n",
       "      <td>इन्ट्रा कैनसूलर कैटरेक्ट एक्सट्रेक्शन ( Intra ...</td>\n",
       "    </tr>\n",
       "    <tr>\n",
       "      <th>2</th>\n",
       "      <td>During operation lens is implanted at front of...</td>\n",
       "      <td>ऑपरेशन के दौरान लैन्स प्रत्यारोपण आँख के अगले ...</td>\n",
       "    </tr>\n",
       "    <tr>\n",
       "      <th>3</th>\n",
       "      <td>In the Extra Capsular Cataract Method , the pa...</td>\n",
       "      <td>इक्स्ट्रा कैनसूलर कैटरेक्ट एक्सट्रेक्शन विधि म...</td>\n",
       "    </tr>\n",
       "    <tr>\n",
       "      <th>4</th>\n",
       "      <td>Lens is fitted in the capsular bag .</td>\n",
       "      <td>कैपस्यूलर बैग में लैन्स फिट किया जाता है ।</td>\n",
       "    </tr>\n",
       "    <tr>\n",
       "      <th>5</th>\n",
       "      <td>In the S . . . . -LRB- Small Incision Cataract...</td>\n",
       "      <td>S.I.C.S ( Small Incision Cataract Surgry ) विध...</td>\n",
       "    </tr>\n",
       "    <tr>\n",
       "      <th>6</th>\n",
       "      <td>No stitches are applied in the S . . . . -LRB-...</td>\n",
       "      <td>S.I.C.S ( Small Incision Cataract Surgry ) विध...</td>\n",
       "    </tr>\n",
       "    <tr>\n",
       "      <th>7</th>\n",
       "      <td>In black cataract the eye nerves dilapidates g...</td>\n",
       "      <td>काला मोतियाबिंद में नेत्र तंत्रिका धीरे -धीरे ...</td>\n",
       "    </tr>\n",
       "    <tr>\n",
       "      <th>8</th>\n",
       "      <td>The blindness caused by the black cataract can...</td>\n",
       "      <td>काले मोतियाबिंद से होने वाली अधंता अंधता को रो...</td>\n",
       "    </tr>\n",
       "    <tr>\n",
       "      <th>9</th>\n",
       "      <td>When the extra pressure is more in the eyes .</td>\n",
       "      <td>जब आँखों में अतिरिक्त दबाव ज्यादा हो ।</td>\n",
       "    </tr>\n",
       "  </tbody>\n",
       "</table>\n",
       "</div>"
      ],
      "text/plain": [
       "                                                  en  \\\n",
       "0  The treatment of cataract is possible through ...   \n",
       "1  Complete lens capsule is taken out in the meth...   \n",
       "2  During operation lens is implanted at front of...   \n",
       "3  In the Extra Capsular Cataract Method , the pa...   \n",
       "4               Lens is fitted in the capsular bag .   \n",
       "5  In the S . . . . -LRB- Small Incision Cataract...   \n",
       "6  No stitches are applied in the S . . . . -LRB-...   \n",
       "7  In black cataract the eye nerves dilapidates g...   \n",
       "8  The blindness caused by the black cataract can...   \n",
       "9      When the extra pressure is more in the eyes .   \n",
       "\n",
       "                                                  hi  \n",
       "0  मोतियाबिंद का उपचार केवल शल्य-चिकित्सा द्वारा ...  \n",
       "1  इन्ट्रा कैनसूलर कैटरेक्ट एक्सट्रेक्शन ( Intra ...  \n",
       "2  ऑपरेशन के दौरान लैन्स प्रत्यारोपण आँख के अगले ...  \n",
       "3  इक्स्ट्रा कैनसूलर कैटरेक्ट एक्सट्रेक्शन विधि म...  \n",
       "4         कैपस्यूलर बैग में लैन्स फिट किया जाता है ।  \n",
       "5  S.I.C.S ( Small Incision Cataract Surgry ) विध...  \n",
       "6  S.I.C.S ( Small Incision Cataract Surgry ) विध...  \n",
       "7  काला मोतियाबिंद में नेत्र तंत्रिका धीरे -धीरे ...  \n",
       "8  काले मोतियाबिंद से होने वाली अधंता अंधता को रो...  \n",
       "9             जब आँखों में अतिरिक्त दबाव ज्यादा हो ।  "
      ]
     },
     "execution_count": 7,
     "metadata": {},
     "output_type": "execute_result"
    }
   ],
   "source": [
    "store = pd.HDFStore('data/data.h5')\n",
    "print(store.keys())\n",
    "train = store['train']\n",
    "print(train.shape)\n",
    "train.head(10)"
   ]
  },
  {
   "cell_type": "markdown",
   "metadata": {},
   "source": [
    "# Models\n",
    "\n",
    "There are 4 basic models, each one with more functionality than the last. The functionality is as follows:\n",
    "- Sequence 2 Sequence models\n",
    "- Joint encoder decoder setups\n",
    "- Attention mechanism\n",
    "- Modeling Coverage\n",
    "\n",
    "First, let us load the necessary libraries for training and building our models."
   ]
  },
  {
   "cell_type": "code",
   "execution_count": 8,
   "metadata": {},
   "outputs": [
    {
     "name": "stderr",
     "output_type": "stream",
     "text": [
      "Using TensorFlow backend.\n"
     ]
    }
   ],
   "source": [
    "import keras\n",
    "import numpy as np"
   ]
  },
  {
   "cell_type": "markdown",
   "metadata": {},
   "source": [
    "## Seq2Seq Model\n"
   ]
  },
  {
   "cell_type": "code",
   "execution_count": null,
   "metadata": {},
   "outputs": [],
   "source": []
  },
  {
   "cell_type": "markdown",
   "metadata": {},
   "source": [
    "## Joint Encoder-decoder Model"
   ]
  },
  {
   "cell_type": "code",
   "execution_count": null,
   "metadata": {},
   "outputs": [],
   "source": []
  },
  {
   "cell_type": "markdown",
   "metadata": {},
   "source": [
    "## Attention mechanism"
   ]
  },
  {
   "cell_type": "code",
   "execution_count": null,
   "metadata": {},
   "outputs": [],
   "source": []
  },
  {
   "cell_type": "markdown",
   "metadata": {},
   "source": [
    "## Modeling Coverage"
   ]
  },
  {
   "cell_type": "code",
   "execution_count": null,
   "metadata": {},
   "outputs": [],
   "source": []
  },
  {
   "cell_type": "markdown",
   "metadata": {},
   "source": [
    "# Testing & Results\n",
    "\n",
    "Now that we have our models ready, we can compare them against the test dataset, and see if and how well they stack up against each other. We are going to be using the same test dataset (_as will be loaded from the `DataFrame`_). This test dataset contains around 400 sentences. Ideally, we _should_ see increasing performance gains moving from the first model to the last. In addition to the testing data for the statistical accuracies, the models are put up against some hand-picked sentences to highlight the key differences and improvements by adding various features (50)."
   ]
  },
  {
   "cell_type": "code",
   "execution_count": 9,
   "metadata": {},
   "outputs": [
    {
     "data": {
      "text/html": [
       "<div>\n",
       "<style scoped>\n",
       "    .dataframe tbody tr th:only-of-type {\n",
       "        vertical-align: middle;\n",
       "    }\n",
       "\n",
       "    .dataframe tbody tr th {\n",
       "        vertical-align: top;\n",
       "    }\n",
       "\n",
       "    .dataframe thead th {\n",
       "        text-align: right;\n",
       "    }\n",
       "</style>\n",
       "<table border=\"1\" class=\"dataframe\">\n",
       "  <thead>\n",
       "    <tr style=\"text-align: right;\">\n",
       "      <th></th>\n",
       "      <th>en</th>\n",
       "      <th>hi</th>\n",
       "    </tr>\n",
       "  </thead>\n",
       "  <tbody>\n",
       "    <tr>\n",
       "      <th>0</th>\n",
       "      <td>Fresh breath and shining teeth enhance your pe...</td>\n",
       "      <td>ताजा साँसें और चमचमाते दाँत आपके व्यक्तित्व को...</td>\n",
       "    </tr>\n",
       "    <tr>\n",
       "      <th>1</th>\n",
       "      <td>Your self-confidence also increases with teeth .</td>\n",
       "      <td>दाँतों से आपका आत्मविश्‍वास भी बढ़ता है ।</td>\n",
       "    </tr>\n",
       "    <tr>\n",
       "      <th>2</th>\n",
       "      <td>Bacteria stay between our gums and teeth .</td>\n",
       "      <td>हमारे मसूढ़ों और दाँतों के बीच बैक्टीरिया मौजू...</td>\n",
       "    </tr>\n",
       "    <tr>\n",
       "      <th>3</th>\n",
       "      <td>They make teeth dirty and breath stinky .</td>\n",
       "      <td>ये दाँतों को गंदा और साँसों को बदबूदार बना देत...</td>\n",
       "    </tr>\n",
       "    <tr>\n",
       "      <th>4</th>\n",
       "      <td>You may keep your teeth clean and breath fresh...</td>\n",
       "      <td>यहाँ दिए कुछ आसान नुस्खों की मदद से आप अपने दा...</td>\n",
       "    </tr>\n",
       "    <tr>\n",
       "      <th>5</th>\n",
       "      <td>Clean your teeth properly .</td>\n",
       "      <td>दाँतों को ठीक से साफ करें ।</td>\n",
       "    </tr>\n",
       "    <tr>\n",
       "      <th>6</th>\n",
       "      <td>It takes two to three minutes to clean your te...</td>\n",
       "      <td>दाँतों को ठीक से साफ करने में दो से तीन मिनट क...</td>\n",
       "    </tr>\n",
       "    <tr>\n",
       "      <th>7</th>\n",
       "      <td>But most of the people give less than one minu...</td>\n",
       "      <td>लेकिन ज्यादातर लोग इसके लिए एक मिनट से भी कम स...</td>\n",
       "    </tr>\n",
       "    <tr>\n",
       "      <th>8</th>\n",
       "      <td>Drink plenty of water .</td>\n",
       "      <td>खूब पानी पीएँ ।</td>\n",
       "    </tr>\n",
       "    <tr>\n",
       "      <th>9</th>\n",
       "      <td>Bacteria attack fast if the mouth dries up .</td>\n",
       "      <td>मुँह सूखने पर बैक्टीरिया हमला तेज कर देते हैं ।</td>\n",
       "    </tr>\n",
       "  </tbody>\n",
       "</table>\n",
       "</div>"
      ],
      "text/plain": [
       "                                                  en  \\\n",
       "0  Fresh breath and shining teeth enhance your pe...   \n",
       "1   Your self-confidence also increases with teeth .   \n",
       "2         Bacteria stay between our gums and teeth .   \n",
       "3          They make teeth dirty and breath stinky .   \n",
       "4  You may keep your teeth clean and breath fresh...   \n",
       "5                        Clean your teeth properly .   \n",
       "6  It takes two to three minutes to clean your te...   \n",
       "7  But most of the people give less than one minu...   \n",
       "8                            Drink plenty of water .   \n",
       "9       Bacteria attack fast if the mouth dries up .   \n",
       "\n",
       "                                                  hi  \n",
       "0  ताजा साँसें और चमचमाते दाँत आपके व्यक्तित्व को...  \n",
       "1          दाँतों से आपका आत्मविश्‍वास भी बढ़ता है ।  \n",
       "2  हमारे मसूढ़ों और दाँतों के बीच बैक्टीरिया मौजू...  \n",
       "3  ये दाँतों को गंदा और साँसों को बदबूदार बना देत...  \n",
       "4  यहाँ दिए कुछ आसान नुस्खों की मदद से आप अपने दा...  \n",
       "5                        दाँतों को ठीक से साफ करें ।  \n",
       "6  दाँतों को ठीक से साफ करने में दो से तीन मिनट क...  \n",
       "7  लेकिन ज्यादातर लोग इसके लिए एक मिनट से भी कम स...  \n",
       "8                                    खूब पानी पीएँ ।  \n",
       "9    मुँह सूखने पर बैक्टीरिया हमला तेज कर देते हैं ।  "
      ]
     },
     "execution_count": 9,
     "metadata": {},
     "output_type": "execute_result"
    }
   ],
   "source": [
    "test = store['test']\n",
    "test.head(10)"
   ]
  },
  {
   "cell_type": "code",
   "execution_count": null,
   "metadata": {},
   "outputs": [],
   "source": []
  }
 ],
 "metadata": {
  "kernelspec": {
   "display_name": "Python 3",
   "language": "python",
   "name": "python3"
  },
  "language_info": {
   "codemirror_mode": {
    "name": "ipython",
    "version": 3
   },
   "file_extension": ".py",
   "mimetype": "text/x-python",
   "name": "python",
   "nbconvert_exporter": "python",
   "pygments_lexer": "ipython3",
   "version": "3.6.7"
  }
 },
 "nbformat": 4,
 "nbformat_minor": 2
}
