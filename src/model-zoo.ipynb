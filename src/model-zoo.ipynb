{
 "cells": [
  {
   "cell_type": "markdown",
   "metadata": {},
   "source": [
    "# Introduction\n",
    "\n",
    "This project entails to cover different models for the task of Neural machine translation. There are four models that will be looked into each with increasing improvements and modifications. We will start off with a basic sequence-to-sequence model, followed by an encoder decoder setup for joint translation. After this the following models will improve upon the performance by adding attention and coverage.\n",
    "\n",
    "## Models\n",
    "\n",
    "Using implementations of following paper make 4 translation models and check their performance on test data\n",
    "\n",
    "- [Sequence to Sequence Learning with Neural Networks](https://papers.nips.cc/paper/5346-sequence-to-sequence-learning-with-neural-networks.pdf) To get the ball rolling.\n",
    "- [Neural Machine Translation By Jointly Learning To Align And Translate](https://arxiv.org/pdf/1409.0473.pdf) Basic attention\n",
    "- [Effective Approaches to Attention-based Neural Machine Translation](http://aclweb.org/anthology/D15-1166) Try the three global attention options, ignore local attention\n",
    "- [Modeling Coverage for Neural Machine Translation](http://www.aclweb.org/anthology/P16-1008) Does this help for repeated words?"
   ]
  },
  {
   "cell_type": "code",
   "execution_count": 3,
   "metadata": {},
   "outputs": [],
   "source": [
    "# load the relevant libraries\n",
    "import pandas as pd\n",
    "import numpy as np\n",
    "import matplotlib.pyplot as plt\n",
    "%matplotlib inline"
   ]
  },
  {
   "cell_type": "markdown",
   "metadata": {},
   "source": [
    "# Dataset\n",
    "\n",
    "We will be using a parallel corpus of English-Hindi text. This corpus contains a dataset as described below:\n",
    "```bash\n",
    "    401    6709   35463 dev.en\n",
    "    200    2784   14367 test.en\n",
    "  49398  846781 4516717 train.en\n",
    "  49999  856274 4566547 total\n",
    "```\n",
    "As seen above, we have around 49.4k parallel aligned sentences for training, and about 200 sentences for testing. Additionally, there are 400 sentences for parameter tuning and validation. We will be training all our models on the `train.{en,hi}`. First, let us load the data. It has already been processed and added as pandas `DataFrame`s for easy loading and manipulation."
   ]
  },
  {
   "cell_type": "code",
   "execution_count": 6,
   "metadata": {},
   "outputs": [
    {
     "name": "stdout",
     "output_type": "stream",
     "text": [
      "['/test', '/train', '/validate']\n",
      "(49398, 2)\n"
     ]
    },
    {
     "data": {
      "text/html": [
       "<div>\n",
       "<style scoped>\n",
       "    .dataframe tbody tr th:only-of-type {\n",
       "        vertical-align: middle;\n",
       "    }\n",
       "\n",
       "    .dataframe tbody tr th {\n",
       "        vertical-align: top;\n",
       "    }\n",
       "\n",
       "    .dataframe thead th {\n",
       "        text-align: right;\n",
       "    }\n",
       "</style>\n",
       "<table border=\"1\" class=\"dataframe\">\n",
       "  <thead>\n",
       "    <tr style=\"text-align: right;\">\n",
       "      <th></th>\n",
       "      <th>en</th>\n",
       "      <th>hi</th>\n",
       "    </tr>\n",
       "  </thead>\n",
       "  <tbody>\n",
       "    <tr>\n",
       "      <th>0</th>\n",
       "      <td>The treatment of cataract is possible through ...</td>\n",
       "      <td>मोतियाबिंद का उपचार केवल शल्य-चिकित्सा द्वारा ...</td>\n",
       "    </tr>\n",
       "    <tr>\n",
       "      <th>1</th>\n",
       "      <td>Complete lens capsule is taken out in the meth...</td>\n",
       "      <td>इन्ट्रा कैनसूलर कैटरेक्ट एक्सट्रेक्शन ( Intra ...</td>\n",
       "    </tr>\n",
       "    <tr>\n",
       "      <th>2</th>\n",
       "      <td>During operation lens is implanted at front of...</td>\n",
       "      <td>ऑपरेशन के दौरान लैन्स प्रत्यारोपण आँख के अगले ...</td>\n",
       "    </tr>\n",
       "    <tr>\n",
       "      <th>3</th>\n",
       "      <td>In the Extra Capsular Cataract Method , the pa...</td>\n",
       "      <td>इक्स्ट्रा कैनसूलर कैटरेक्ट एक्सट्रेक्शन विधि म...</td>\n",
       "    </tr>\n",
       "    <tr>\n",
       "      <th>4</th>\n",
       "      <td>Lens is fitted in the capsular bag .</td>\n",
       "      <td>कैपस्यूलर बैग में लैन्स फिट किया जाता है ।</td>\n",
       "    </tr>\n",
       "    <tr>\n",
       "      <th>5</th>\n",
       "      <td>In the S . . . . -LRB- Small Incision Cataract...</td>\n",
       "      <td>S.I.C.S ( Small Incision Cataract Surgry ) विध...</td>\n",
       "    </tr>\n",
       "    <tr>\n",
       "      <th>6</th>\n",
       "      <td>No stitches are applied in the S . . . . -LRB-...</td>\n",
       "      <td>S.I.C.S ( Small Incision Cataract Surgry ) विध...</td>\n",
       "    </tr>\n",
       "    <tr>\n",
       "      <th>7</th>\n",
       "      <td>In black cataract the eye nerves dilapidates g...</td>\n",
       "      <td>काला मोतियाबिंद में नेत्र तंत्रिका धीरे -धीरे ...</td>\n",
       "    </tr>\n",
       "    <tr>\n",
       "      <th>8</th>\n",
       "      <td>The blindness caused by the black cataract can...</td>\n",
       "      <td>काले मोतियाबिंद से होने वाली अधंता अंधता को रो...</td>\n",
       "    </tr>\n",
       "    <tr>\n",
       "      <th>9</th>\n",
       "      <td>When the extra pressure is more in the eyes .</td>\n",
       "      <td>जब आँखों में अतिरिक्त दबाव ज्यादा हो ।</td>\n",
       "    </tr>\n",
       "  </tbody>\n",
       "</table>\n",
       "</div>"
      ],
      "text/plain": [
       "                                                  en  \\\n",
       "0  The treatment of cataract is possible through ...   \n",
       "1  Complete lens capsule is taken out in the meth...   \n",
       "2  During operation lens is implanted at front of...   \n",
       "3  In the Extra Capsular Cataract Method , the pa...   \n",
       "4               Lens is fitted in the capsular bag .   \n",
       "5  In the S . . . . -LRB- Small Incision Cataract...   \n",
       "6  No stitches are applied in the S . . . . -LRB-...   \n",
       "7  In black cataract the eye nerves dilapidates g...   \n",
       "8  The blindness caused by the black cataract can...   \n",
       "9      When the extra pressure is more in the eyes .   \n",
       "\n",
       "                                                  hi  \n",
       "0  मोतियाबिंद का उपचार केवल शल्य-चिकित्सा द्वारा ...  \n",
       "1  इन्ट्रा कैनसूलर कैटरेक्ट एक्सट्रेक्शन ( Intra ...  \n",
       "2  ऑपरेशन के दौरान लैन्स प्रत्यारोपण आँख के अगले ...  \n",
       "3  इक्स्ट्रा कैनसूलर कैटरेक्ट एक्सट्रेक्शन विधि म...  \n",
       "4         कैपस्यूलर बैग में लैन्स फिट किया जाता है ।  \n",
       "5  S.I.C.S ( Small Incision Cataract Surgry ) विध...  \n",
       "6  S.I.C.S ( Small Incision Cataract Surgry ) विध...  \n",
       "7  काला मोतियाबिंद में नेत्र तंत्रिका धीरे -धीरे ...  \n",
       "8  काले मोतियाबिंद से होने वाली अधंता अंधता को रो...  \n",
       "9             जब आँखों में अतिरिक्त दबाव ज्यादा हो ।  "
      ]
     },
     "execution_count": 6,
     "metadata": {},
     "output_type": "execute_result"
    }
   ],
   "source": [
    "store = pd.HDFStore('data/data.h5')\n",
    "print(store.keys())\n",
    "train = store['train']\n",
    "print(train.shape)\n",
    "train.head(10)"
   ]
  }
 ],
 "metadata": {
  "kernelspec": {
   "display_name": "Python 3",
   "language": "python",
   "name": "python3"
  },
  "language_info": {
   "codemirror_mode": {
    "name": "ipython",
    "version": 3
   },
   "file_extension": ".py",
   "mimetype": "text/x-python",
   "name": "python",
   "nbconvert_exporter": "python",
   "pygments_lexer": "ipython3",
   "version": "3.6.7"
  }
 },
 "nbformat": 4,
 "nbformat_minor": 2
}
